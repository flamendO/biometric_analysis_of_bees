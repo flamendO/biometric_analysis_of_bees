{
 "cells": [
  {
   "cell_type": "code",
   "execution_count": 6,
   "id": "48d223db",
   "metadata": {},
   "outputs": [
    {
     "ename": "SyntaxError",
     "evalue": "invalid syntax (1963739239.py, line 1)",
     "output_type": "error",
     "traceback": [
      "\u001b[0;36m  Cell \u001b[0;32mIn[6], line 1\u001b[0;36m\u001b[0m\n\u001b[0;31m    from source rotation_aile import rotate_wing\u001b[0m\n\u001b[0m                ^\u001b[0m\n\u001b[0;31mSyntaxError\u001b[0m\u001b[0;31m:\u001b[0m invalid syntax\n"
     ]
    }
   ],
   "source": [
    "from source rotation_aile import rotate_wing\n",
    "import numpy as np\n",
    "import matplotlib.pyplot as plt\n",
    "import os\n",
    "import cv2\n",
    "from PIL import Image  \n",
    "import PIL \n",
    "\n",
    "\n",
    "path = \"./save/\"\n",
    "plt.figure()\n",
    "plt.subplot(4,3,1)\n",
    "\n",
    "for k in range(1,13):\n",
    "    image, angle = rotate_wing(path + str(k) + \".png\")\n",
    "    plt.subplot(4,3,k)\n",
    "    plt.imshow(image)\n",
    "    # plt.savefig(\"./save\"+ '/' + str(20 + k) + '.png',  bbox_inches='tight')\n",
    "\n",
    "plt.show()"
   ]
  },
  {
   "cell_type": "code",
   "execution_count": null,
   "id": "5e2bef8e",
   "metadata": {},
   "outputs": [],
   "source": []
  }
 ],
 "metadata": {
  "kernelspec": {
   "display_name": "Python 3 (ipykernel)",
   "language": "python",
   "name": "python3"
  },
  "language_info": {
   "codemirror_mode": {
    "name": "ipython",
    "version": 3
   },
   "file_extension": ".py",
   "mimetype": "text/x-python",
   "name": "python",
   "nbconvert_exporter": "python",
   "pygments_lexer": "ipython3",
   "version": "3.10.13"
  }
 },
 "nbformat": 4,
 "nbformat_minor": 5
}
